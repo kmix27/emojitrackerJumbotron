{
 "cells": [
  {
   "cell_type": "code",
   "execution_count": 8,
   "metadata": {
    "collapsed": false,
    "deletable": true,
    "editable": true
   },
   "outputs": [],
   "source": [
    "from bs4 import BeautifulSoup\n",
    "import requests \n",
    "import lxml\n",
    "import cnfg\n",
    "import tweepy\n",
    "import json\n",
    "import selenium\n",
    "from selenium import webdriver\n",
    "import time\n",
    "import numpy as np\n",
    "import pandas as pd\n",
    "from itertools import cycle\n",
    "from tweepy.error import TweepError\n",
    "import os"
   ]
  },
  {
   "cell_type": "markdown",
   "metadata": {},
   "source": [
    "## Let's play with the emojitracker website!  \n",
    "\n",
    "This is **EASILY** the dumbest thing I've coded to date, but it's *mildely* entertaining.  It flashes patterns accross [emojitracker.com](http://emojitracker.com) by first scraping the current rankings grid, and then tweeting the relevant emojies in patterns accross a pre-defined matrix.  \n",
    "\n",
    "Additionally it saves the emoji rankings in a json file for future highly technichal and monumentally earthshattering analysis.  Undoubtedly the keys to predicting the stockmarket **AND** global warning are contained within the little yellow replacements for human contact and their relative frequency on twitter. Time to nerd out boys and girls! \n",
    "\n",
    "To set up/run:  \n",
    "1. Put your relevant api info in the correct params in a call to setup() and then run the notebook.  \n",
    "2. Give [Mroth](https://github.com/mroth) a high five if you know him because his code is dope!"
   ]
  },
  {
   "cell_type": "code",
   "execution_count": null,
   "metadata": {
    "collapsed": true
   },
   "outputs": [],
   "source": [
    "# run once, if you run this more than \n",
    "# that it means you've opend the notebook \n",
    "# more than once and you really shoud spend \n",
    "# your time more wisely. Have you not heard of videogames?\n",
    "# Your mother would be furious\n",
    "\n",
    "def setup(consumer_key,consumer_secret ,access_token, access_token_secret):\n",
    "    d = dict(consumer_key=consumerKey, consumer_secret=consumer_secret,\n",
    "             access_token=access_token, access_token_secret=access_token_secret)\n",
    "    with open(os.path.expanduser('~/.twitmoji_app')) as configurator5000:\n",
    "        json.dump(d,configurator5000)\n",
    "    print(\"Amazing work, take a break you've earned it\")"
   ]
  },
  {
   "cell_type": "code",
   "execution_count": null,
   "metadata": {
    "collapsed": true
   },
   "outputs": [],
   "source": []
  },
  {
   "cell_type": "code",
   "execution_count": 282,
   "metadata": {
    "collapsed": true,
    "deletable": true,
    "editable": true
   },
   "outputs": [],
   "source": [
    "def initAPI():\n",
    "    config = cnfg.load(\".twitmoji_app\")\n",
    "    key = config[\"consumer_key\"]\n",
    "    cSecret = config[\"consumer_secret\"]\n",
    "    token = config[\"access_token\"]\n",
    "    tSecret = config[\"access_token_secret\"]\n",
    "    auth = tweepy.OAuthHandler(consumer_key=key,consumer_secret=cSecret)\n",
    "    auth.set_access_token(token, tSecret)\n",
    "    tweet = tweepy.API(auth_handler=auth)\n",
    "    return tweet\n",
    "\n",
    "\n",
    "def chunks(l, n):\n",
    "    \"\"\"Yield successive n-sized chunks from l.\"\"\"\n",
    "    for i in range(0, len(l), n):\n",
    "        yield l[i:i + n]\n",
    "        \n",
    "\n",
    "def getmojigrid():\n",
    "    '''\n",
    "    uses selenium to get emojidata from emojitracker.com\n",
    "    saves a timestamped json file of emoji rankings in \n",
    "    reporoot/data for important future analysis\n",
    "    '''\n",
    "    url = 'http://www.emojitracker.com/'\n",
    "    browser = webdriver.Firefox()\n",
    "    browser.get(url)\n",
    "    soup = BeautifulSoup(browser.page_source, 'lxml')\n",
    "    browser.close()\n",
    "    data = [i.text.strip(\"'\").strip() for i in soup.find(id='data').findAll('a')]\n",
    "    ranks = []\n",
    "    ranksd = {}\n",
    "    hist={}\n",
    "    for elem in data:\n",
    "        l = list(elem)\n",
    "        emoji = l[0]\n",
    "        rank = int(''.join(c for c in l[1:] if c.isdigit()))\n",
    "        ranks.append((emoji,rank))\n",
    "        ranksd[emoji] = rank\n",
    "    emojies = [i[0] for i in ranks]\n",
    "    counts = [i[1] for i in ranks]\n",
    "    e_matrix = [i for i in chunks(emojies,8)]\n",
    "    c_matrix = [i for i in chunks(counts,8)]\n",
    "    e_grid = pd.DataFrame(e_matrix)\n",
    "    c_grid = pd.DataFrame(c_matrix)\n",
    "    now = str(round(time.time()))\n",
    "    with open('data/emojidata.json', 'r') as readjson:\n",
    "        hist = json.load(readjson)\n",
    "    hist['{}'.format(now)] = ranksd\n",
    "    with open('data/emojidata.json','w') as writejson:\n",
    "        json.dump(hist,writejson)\n",
    "    return dict(grid=e_grid, freq=c_grid, shape=e_grid.shape, ranks=ranks, counts=counts, hist=hist )\n",
    "\n",
    "\n",
    "def square_window(frame, start_x, start_y, width):\n",
    "    '''\n",
    "    frame = data['grid'] from data = getmojigrid()\n",
    "    start_x = x coord for top left corner\n",
    "    start_y = y coord for top left corner\n",
    "    width = number of cells wide max = 8 \n",
    "    returns a roughly square matrix as represented on emojitracker\n",
    "    \n",
    "    Things work better towards the bottom of the matrix due to the epilepsy happening up top.\n",
    "    70 or so is a good start_x value\n",
    "    '''\n",
    "    if  width - start_y > 8:\n",
    "        width = 8-start_y\n",
    "    return frame.iloc[start_x:round(start_x+(width*4.2)),start_y:start_y+width]  \n",
    "\n",
    "\n",
    "def get_lim(twitter):\n",
    "    '''\n",
    "    makes twitter limit rates human readable\n",
    "    pass tweepy api object\n",
    "    '''\n",
    "    this = twitter.rate_limit_status()\n",
    "    d = {}\n",
    "    for key in this['resources']:\n",
    "        for ep in this['resources']['{}'.format(key)]:\n",
    "            r =this['resources']['{}'.format(key)]['{}'.format(ep)]['remaining']\n",
    "            l = this['resources']['{}'.format(key)]['{}'.format(ep)]['limit']\n",
    "            d['{}'.format(ep)] = l - r\n",
    "    for key in d:\n",
    "        if d[\"{}\".format(key)] != 0:\n",
    "            print(str(key)+ ' ' + str(d[\"{}\".format(key)]))"
   ]
  },
  {
   "cell_type": "markdown",
   "metadata": {},
   "source": [
    "### The patterns so far"
   ]
  },
  {
   "cell_type": "code",
   "execution_count": 225,
   "metadata": {
    "collapsed": false,
    "scrolled": true
   },
   "outputs": [],
   "source": [
    "\n",
    "def snow(twitterAPI,square,n_tweets,delay):\n",
    "    '''\n",
    "    random flashing on a pre-defined square\n",
    "    twitterAPI = api object\n",
    "    square = grid of emoji coords from square_window()\n",
    "    delay = how long to wait so you're not an ass\n",
    "    returns n_tweets * delay seconds of enjoyment\n",
    "    '''\n",
    "    counter = 0\n",
    "    dim_x = square.shape[0]\n",
    "    dim_y = square.shape[1]\n",
    "    while counter <= n_tweets:\n",
    "        x = np.random.choice(dim_x)\n",
    "        y = np.random.choice(dim_y)\n",
    "        target = square.iloc[x,y]\n",
    "#         salting the tweets so status update isn't blocked due to repetition\n",
    "        salt = round(np.random.randn(),10)\n",
    "        s_string = target +\"   \"+str(salt)\n",
    "        status = twitterAPI.update_status(s_string)\n",
    "        counter += 1\n",
    "        time.sleep(delay)\n",
    "#         get rid of em\n",
    "        status.destroy()\n",
    "    return        \n",
    "\n",
    "\n",
    "def barber_pole(twitterAPI, square,delay):\n",
    "    '''\n",
    "    flash down diagonally on a pre-defined square\n",
    "    twitterAPI = api object\n",
    "    square = grid of emoji coords from square_window()\n",
    "    delay = how long to wait so you're not an ass\n",
    "    returns (square.shape[1] * delay) seconds of enjoyment\n",
    "    '''\n",
    "    dim_x = square.shape[0]\n",
    "    dim_y = square.shape[1]\n",
    "    down = range(dim_y)\n",
    "    right = range(dim_x)\n",
    "    tupgen = zip(cycle(right),cycle(down))\n",
    "    pairs = []\n",
    "    while len(pairs)<=dim_x:\n",
    "        pairs.append(tupgen.__next__())\n",
    "    x = [i[0] for i in pairs]\n",
    "    y = [i[1] for i in pairs]\n",
    "    for p in pairs:\n",
    "        target = square.iloc[p[0],p[1]]\n",
    "        salt = round(np.random.randn(),10)\n",
    "        s_string = target +\"   \"+str(salt)\n",
    "        status = twitterAPI.update_status(s_string)\n",
    "        time.sleep(delay)\n",
    "        status.destroy()\n",
    "            "
   ]
  },
  {
   "cell_type": "code",
   "execution_count": 289,
   "metadata": {
    "collapsed": false
   },
   "outputs": [],
   "source": [
    "# this is ephemeral, it happens in real time.  have emojitracker.com \n",
    "# open and scrolled to near the bottom or it will do litterally nothing for you\n",
    "\n",
    "def give_it_a_try():\n",
    "    tweet = initAPI()\n",
    "    data = getmojigrid()\n",
    "    sw = square_window(data['grid'], 71,0,7)\n",
    "    barber_pole(sw)\n",
    "    return tweet, data\n",
    "    "
   ]
  },
  {
   "cell_type": "code",
   "execution_count": null,
   "metadata": {
    "collapsed": true
   },
   "outputs": [],
   "source": [
    "tweet,data = give_it_a_try()"
   ]
  }
 ],
 "metadata": {
  "kernelspec": {
   "display_name": "Python 3",
   "language": "python",
   "name": "python3"
  },
  "language_info": {
   "codemirror_mode": {
    "name": "ipython",
    "version": 3
   },
   "file_extension": ".py",
   "mimetype": "text/x-python",
   "name": "python",
   "nbconvert_exporter": "python",
   "pygments_lexer": "ipython3",
   "version": "3.5.3"
  }
 },
 "nbformat": 4,
 "nbformat_minor": 2
}
